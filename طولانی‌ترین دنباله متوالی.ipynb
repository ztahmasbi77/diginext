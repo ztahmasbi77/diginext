{
 "cells": [
  {
   "cell_type": "code",
   "execution_count": 5,
   "metadata": {},
   "outputs": [],
   "source": [
    "def longest_consecutive(nums):\n",
    "    if not nums:\n",
    "        return 0, []\n",
    "\n",
    "    num_set = set(nums)\n",
    "    longest_streak = 0\n",
    "    longest_sequence = []\n",
    "\n",
    "    for num in num_set:\n",
    "        # Check if num is the start of a new sequence\n",
    "        if num - 1 not in num_set:\n",
    "            current_num = num\n",
    "            current_streak = 1\n",
    "            current_sequence = [current_num]\n",
    "\n",
    "            # Find the length of the current consecutive sequence\n",
    "            while current_num + 1 in num_set:\n",
    "                current_num += 1\n",
    "                current_streak += 1\n",
    "                current_sequence.append(current_num)\n",
    "\n",
    "            # Update the longest sequence if the current one is longer\n",
    "            if current_streak > longest_streak:\n",
    "                longest_streak = current_streak\n",
    "                longest_sequence = current_sequence\n",
    "\n",
    "    return longest_streak, longest_sequence"
   ]
  },
  {
   "cell_type": "code",
   "execution_count": 6,
   "metadata": {},
   "outputs": [
    {
     "name": "stdout",
     "output_type": "stream",
     "text": [
      "Longest consecutive sequence length: 4\n",
      "Sequence: [1, 2, 3, 4]\n"
     ]
    }
   ],
   "source": [
    "# Example\n",
    "nums = [100, 4, 200, 1, 3, 2]\n",
    "length, sequence = longest_consecutive(nums)  \n",
    "print(f'Longest consecutive sequence length: {length}') \n",
    "print(f'Sequence: {sequence}') "
   ]
  }
 ],
 "metadata": {
  "kernelspec": {
   "display_name": "Python 3",
   "language": "python",
   "name": "python3"
  },
  "language_info": {
   "codemirror_mode": {
    "name": "ipython",
    "version": 3
   },
   "file_extension": ".py",
   "mimetype": "text/x-python",
   "name": "python",
   "nbconvert_exporter": "python",
   "pygments_lexer": "ipython3",
   "version": "3.9.0"
  }
 },
 "nbformat": 4,
 "nbformat_minor": 2
}
